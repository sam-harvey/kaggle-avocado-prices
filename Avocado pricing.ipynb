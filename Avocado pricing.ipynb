{
 "cells": [
  {
   "cell_type": "markdown",
   "metadata": {},
   "source": [
    "Setup"
   ]
  },
  {
   "cell_type": "code",
   "execution_count": 1,
   "metadata": {},
   "outputs": [],
   "source": [
    "%matplotlib inline\n",
    "%reload_ext autoreload\n",
    "%autoreload 2"
   ]
  },
  {
   "cell_type": "code",
   "execution_count": null,
   "metadata": {
    "scrolled": true
   },
   "outputs": [],
   "source": [
    "#Download kernel data\n",
    "!mkdir data\n",
    "!kaggle datasets download neuromusic/avocado-prices -p ./data"
   ]
  },
  {
   "cell_type": "code",
   "execution_count": 2,
   "metadata": {},
   "outputs": [],
   "source": [
    "#Libraries\n",
    "import pandas as pd\n",
    "import numpy as np\n",
    "import re as re\n",
    "\n",
    "#fastai v0.7.2\n",
    "from fastai.structured import *\n",
    "from fastai.column_data import *\n",
    "np.set_printoptions(threshold=50, edgeitems=20)"
   ]
  },
  {
   "cell_type": "code",
   "execution_count": 3,
   "metadata": {},
   "outputs": [],
   "source": [
    "df_avocado = pd.read_csv('data/avocado.csv')"
   ]
  },
  {
   "cell_type": "code",
   "execution_count": 5,
   "metadata": {},
   "outputs": [],
   "source": [
    "df_avocado.drop(list(df_avocado)[0], axis = 1, inplace = True)\n",
    "df_avocado.drop(labels = 'year', axis = 1, inplace = True)\n",
    "\n",
    "#convert to snake case\n",
    "df_avocado.columns = [i.replace(\" \", \"_\") for i in df_avocado.columns]\n",
    "df_avocado.columns = [re.sub(\"(?<=[a-z])(?=[A-Z])\", \"_\", i) for i in df_avocado.columns]\n",
    "df_avocado.columns = [i.lower() for i in df_avocado.columns]"
   ]
  },
  {
   "cell_type": "markdown",
   "metadata": {},
   "source": [
    "EDA"
   ]
  },
  {
   "cell_type": "code",
   "execution_count": null,
   "metadata": {
    "scrolled": true
   },
   "outputs": [],
   "source": [
    "df_avocado.head(5)"
   ]
  },
  {
   "cell_type": "code",
   "execution_count": null,
   "metadata": {
    "scrolled": false
   },
   "outputs": [],
   "source": [
    "df_avocado.dtypes"
   ]
  },
  {
   "cell_type": "code",
   "execution_count": 6,
   "metadata": {
    "scrolled": true
   },
   "outputs": [],
   "source": [
    "df_avocado['avo_type_sum'] = df_avocado['4046'] + df_avocado['4225'] + df_avocado['4770']"
   ]
  },
  {
   "cell_type": "code",
   "execution_count": null,
   "metadata": {},
   "outputs": [],
   "source": [
    "#Sometimes the total volume differs"
   ]
  },
  {
   "cell_type": "code",
   "execution_count": 5,
   "metadata": {},
   "outputs": [],
   "source": [
    "total_test = df_avocado['avo_type_sum'] + df_avocado['total_bags'] == df_avocado['total_volume']"
   ]
  },
  {
   "cell_type": "code",
   "execution_count": null,
   "metadata": {},
   "outputs": [],
   "source": [
    "len(total_test)"
   ]
  },
  {
   "cell_type": "code",
   "execution_count": null,
   "metadata": {
    "scrolled": true
   },
   "outputs": [],
   "source": [
    "sum(total_test)"
   ]
  },
  {
   "cell_type": "code",
   "execution_count": 7,
   "metadata": {},
   "outputs": [],
   "source": [
    "#Add seasonal variables\n",
    "add_datepart(df_avocado, 'date', drop = True)"
   ]
  },
  {
   "cell_type": "code",
   "execution_count": 8,
   "metadata": {
    "scrolled": true
   },
   "outputs": [],
   "source": [
    "#convert to snake case\n",
    "df_avocado.columns = [i.replace(\" \", \"_\") for i in df_avocado.columns]\n",
    "df_avocado.columns = [re.sub(\"(?<=[a-z])(?=[A-Z])\", \"_\", i) for i in df_avocado.columns]\n",
    "df_avocado.columns = [i.lower() for i in df_avocado.columns]"
   ]
  },
  {
   "cell_type": "markdown",
   "metadata": {},
   "source": [
    "Modelling"
   ]
  },
  {
   "cell_type": "code",
   "execution_count": null,
   "metadata": {},
   "outputs": [],
   "source": [
    "df_avocado.columns"
   ]
  },
  {
   "cell_type": "code",
   "execution_count": 9,
   "metadata": {},
   "outputs": [],
   "source": [
    "#Convert variables to treat as categories for embeddings\n",
    "factor_vars = [\n",
    "    'region'\n",
    "]\n",
    "\n",
    "ordered_factors = ['year', 'month', 'week', 'day']\n",
    "\n",
    "for f in factor_vars:\n",
    "    df_avocado[f] = df_avocado[f].astype('category')\n",
    "    \n",
    "for f in ordered_factors:\n",
    "    df_avocado[f] = df_avocado[f].astype('category').cat.as_ordered()"
   ]
  },
  {
   "cell_type": "code",
   "execution_count": 10,
   "metadata": {
    "scrolled": false
   },
   "outputs": [
    {
     "data": {
      "text/plain": [
       "[('region', 54)]"
      ]
     },
     "execution_count": 10,
     "metadata": {},
     "output_type": "execute_result"
    }
   ],
   "source": [
    "#Look at dims\n",
    "[(c, len(df_avocado[c].cat.categories)) for c in factor_vars]"
   ]
  },
  {
   "cell_type": "code",
   "execution_count": 12,
   "metadata": {},
   "outputs": [],
   "source": [
    "#Convert type to bool\n",
    "df_avocado['type'] = df_avocado['type'] == 'conventional'"
   ]
  },
  {
   "cell_type": "code",
   "execution_count": 13,
   "metadata": {},
   "outputs": [],
   "source": [
    "#Convert all non-cat variables to float\n",
    "cat_vars = (factor_vars + ordered_factors)\n",
    "\n",
    "for f in df_avocado.columns:\n",
    "    if(np.logical_not(np.isin(f, cat_vars))):\n",
    "        df_avocado[f] = df_avocado[f].fillna(0).astype('float32')"
   ]
  },
  {
   "cell_type": "code",
   "execution_count": 14,
   "metadata": {},
   "outputs": [],
   "source": [
    "#save to disk\n",
    "df_avocado.to_feather('data/model_data')"
   ]
  },
  {
   "cell_type": "code",
   "execution_count": 15,
   "metadata": {},
   "outputs": [],
   "source": [
    "#Create data split\n",
    "train_idx = list(range(0, int(len(df_avocado) * .9)))\n",
    "val_idx = list(range(int(len(df_avocado) * .8) + 1, int(len(df_avocado) * .9)))\n",
    "test_idx = list(range(int(len(df_avocado) * .9) + 1, int(len(df_avocado))))\n",
    "\n",
    "df_train = df_avocado.copy().iloc[train_idx]\n",
    "# df_val = df_avocado.copy().iloc[val_idx]\n",
    "df_test = df_avocado.copy().iloc[test_idx]"
   ]
  },
  {
   "cell_type": "code",
   "execution_count": 155,
   "metadata": {
    "scrolled": true
   },
   "outputs": [],
   "source": [
    "train, y, nas, mapper = proc_df(df_train, y_fld = 'average_price', do_scale=True)\n",
    "test, y_test, nas, mapper =  proc_df(df_test, y_fld = 'average_price', do_scale=True, mapper=mapper, na_dict=nas)"
   ]
  },
  {
   "cell_type": "code",
   "execution_count": 17,
   "metadata": {},
   "outputs": [
    {
     "data": {
      "text/html": [
       "<div>\n",
       "<style scoped>\n",
       "    .dataframe tbody tr th:only-of-type {\n",
       "        vertical-align: middle;\n",
       "    }\n",
       "\n",
       "    .dataframe tbody tr th {\n",
       "        vertical-align: top;\n",
       "    }\n",
       "\n",
       "    .dataframe thead th {\n",
       "        text-align: right;\n",
       "    }\n",
       "</style>\n",
       "<table border=\"1\" class=\"dataframe\">\n",
       "  <thead>\n",
       "    <tr style=\"text-align: right;\">\n",
       "      <th></th>\n",
       "      <th>total_volume</th>\n",
       "      <th>4046</th>\n",
       "      <th>4225</th>\n",
       "      <th>4770</th>\n",
       "      <th>total_bags</th>\n",
       "      <th>small_bags</th>\n",
       "      <th>large_bags</th>\n",
       "      <th>xlarge_bags</th>\n",
       "      <th>type</th>\n",
       "      <th>region</th>\n",
       "      <th>...</th>\n",
       "      <th>day</th>\n",
       "      <th>dayofweek</th>\n",
       "      <th>dayofyear</th>\n",
       "      <th>is_month_end</th>\n",
       "      <th>is_month_start</th>\n",
       "      <th>is_quarter_end</th>\n",
       "      <th>is_quarter_start</th>\n",
       "      <th>is_year_end</th>\n",
       "      <th>is_year_start</th>\n",
       "      <th>elapsed</th>\n",
       "    </tr>\n",
       "  </thead>\n",
       "  <tbody>\n",
       "    <tr>\n",
       "      <th>0</th>\n",
       "      <td>-0.240181</td>\n",
       "      <td>-0.243302</td>\n",
       "      <td>-0.214377</td>\n",
       "      <td>-0.224003</td>\n",
       "      <td>-0.242829</td>\n",
       "      <td>-0.241757</td>\n",
       "      <td>-0.228827</td>\n",
       "      <td>-0.185359</td>\n",
       "      <td>0.894256</td>\n",
       "      <td>1</td>\n",
       "      <td>...</td>\n",
       "      <td>27</td>\n",
       "      <td>0.0</td>\n",
       "      <td>1.719896</td>\n",
       "      <td>-0.176466</td>\n",
       "      <td>-0.195228</td>\n",
       "      <td>-0.072552</td>\n",
       "      <td>-0.102573</td>\n",
       "      <td>-0.072552</td>\n",
       "      <td>-0.072127</td>\n",
       "      <td>-0.568405</td>\n",
       "    </tr>\n",
       "    <tr>\n",
       "      <th>1</th>\n",
       "      <td>-0.242760</td>\n",
       "      <td>-0.243575</td>\n",
       "      <td>-0.222134</td>\n",
       "      <td>-0.223913</td>\n",
       "      <td>-0.242049</td>\n",
       "      <td>-0.240731</td>\n",
       "      <td>-0.228810</td>\n",
       "      <td>-0.185359</td>\n",
       "      <td>0.894256</td>\n",
       "      <td>1</td>\n",
       "      <td>...</td>\n",
       "      <td>20</td>\n",
       "      <td>0.0</td>\n",
       "      <td>1.654468</td>\n",
       "      <td>-0.176466</td>\n",
       "      <td>-0.195228</td>\n",
       "      <td>-0.072552</td>\n",
       "      <td>-0.102573</td>\n",
       "      <td>-0.072552</td>\n",
       "      <td>-0.072127</td>\n",
       "      <td>-0.589759</td>\n",
       "    </tr>\n",
       "    <tr>\n",
       "      <th>2</th>\n",
       "      <td>-0.225307</td>\n",
       "      <td>-0.243484</td>\n",
       "      <td>-0.171152</td>\n",
       "      <td>-0.223274</td>\n",
       "      <td>-0.243361</td>\n",
       "      <td>-0.242473</td>\n",
       "      <td>-0.228788</td>\n",
       "      <td>-0.185359</td>\n",
       "      <td>0.894256</td>\n",
       "      <td>1</td>\n",
       "      <td>...</td>\n",
       "      <td>13</td>\n",
       "      <td>0.0</td>\n",
       "      <td>1.589040</td>\n",
       "      <td>-0.176466</td>\n",
       "      <td>-0.195228</td>\n",
       "      <td>-0.072552</td>\n",
       "      <td>-0.102573</td>\n",
       "      <td>-0.072552</td>\n",
       "      <td>-0.072127</td>\n",
       "      <td>-0.611112</td>\n",
       "    </tr>\n",
       "    <tr>\n",
       "      <th>3</th>\n",
       "      <td>-0.236115</td>\n",
       "      <td>-0.243230</td>\n",
       "      <td>-0.200530</td>\n",
       "      <td>-0.223786</td>\n",
       "      <td>-0.245614</td>\n",
       "      <td>-0.245489</td>\n",
       "      <td>-0.228669</td>\n",
       "      <td>-0.185359</td>\n",
       "      <td>0.894256</td>\n",
       "      <td>1</td>\n",
       "      <td>...</td>\n",
       "      <td>6</td>\n",
       "      <td>0.0</td>\n",
       "      <td>1.523612</td>\n",
       "      <td>-0.176466</td>\n",
       "      <td>-0.195228</td>\n",
       "      <td>-0.072552</td>\n",
       "      <td>-0.102573</td>\n",
       "      <td>-0.072552</td>\n",
       "      <td>-0.072127</td>\n",
       "      <td>-0.632466</td>\n",
       "    </tr>\n",
       "    <tr>\n",
       "      <th>4</th>\n",
       "      <td>-0.243817</td>\n",
       "      <td>-0.243374</td>\n",
       "      <td>-0.222767</td>\n",
       "      <td>-0.223758</td>\n",
       "      <td>-0.245254</td>\n",
       "      <td>-0.245095</td>\n",
       "      <td>-0.228420</td>\n",
       "      <td>-0.185359</td>\n",
       "      <td>0.894256</td>\n",
       "      <td>1</td>\n",
       "      <td>...</td>\n",
       "      <td>29</td>\n",
       "      <td>0.0</td>\n",
       "      <td>1.458183</td>\n",
       "      <td>-0.176466</td>\n",
       "      <td>-0.195228</td>\n",
       "      <td>-0.072552</td>\n",
       "      <td>-0.102573</td>\n",
       "      <td>-0.072552</td>\n",
       "      <td>-0.072127</td>\n",
       "      <td>-0.653820</td>\n",
       "    </tr>\n",
       "  </tbody>\n",
       "</table>\n",
       "<p>5 rows × 24 columns</p>\n",
       "</div>"
      ],
      "text/plain": [
       "   total_volume      4046      4225      4770  total_bags  small_bags  \\\n",
       "0     -0.240181 -0.243302 -0.214377 -0.224003   -0.242829   -0.241757   \n",
       "1     -0.242760 -0.243575 -0.222134 -0.223913   -0.242049   -0.240731   \n",
       "2     -0.225307 -0.243484 -0.171152 -0.223274   -0.243361   -0.242473   \n",
       "3     -0.236115 -0.243230 -0.200530 -0.223786   -0.245614   -0.245489   \n",
       "4     -0.243817 -0.243374 -0.222767 -0.223758   -0.245254   -0.245095   \n",
       "\n",
       "   large_bags  xlarge_bags      type  region    ...     day  dayofweek  \\\n",
       "0   -0.228827    -0.185359  0.894256       1    ...      27        0.0   \n",
       "1   -0.228810    -0.185359  0.894256       1    ...      20        0.0   \n",
       "2   -0.228788    -0.185359  0.894256       1    ...      13        0.0   \n",
       "3   -0.228669    -0.185359  0.894256       1    ...       6        0.0   \n",
       "4   -0.228420    -0.185359  0.894256       1    ...      29        0.0   \n",
       "\n",
       "   dayofyear  is_month_end  is_month_start  is_quarter_end  is_quarter_start  \\\n",
       "0   1.719896     -0.176466       -0.195228       -0.072552         -0.102573   \n",
       "1   1.654468     -0.176466       -0.195228       -0.072552         -0.102573   \n",
       "2   1.589040     -0.176466       -0.195228       -0.072552         -0.102573   \n",
       "3   1.523612     -0.176466       -0.195228       -0.072552         -0.102573   \n",
       "4   1.458183     -0.176466       -0.195228       -0.072552         -0.102573   \n",
       "\n",
       "   is_year_end  is_year_start   elapsed  \n",
       "0    -0.072552      -0.072127 -0.568405  \n",
       "1    -0.072552      -0.072127 -0.589759  \n",
       "2    -0.072552      -0.072127 -0.611112  \n",
       "3    -0.072552      -0.072127 -0.632466  \n",
       "4    -0.072552      -0.072127 -0.653820  \n",
       "\n",
       "[5 rows x 24 columns]"
      ]
     },
     "execution_count": 17,
     "metadata": {},
     "output_type": "execute_result"
    }
   ],
   "source": [
    "yl = np.log(y)\n",
    "train.head(5)"
   ]
  },
  {
   "cell_type": "code",
   "execution_count": 18,
   "metadata": {},
   "outputs": [],
   "source": [
    "model_data = ColumnarModelData.from_data_frame('data/',  val_idx, train, yl.astype(np.float32),\n",
    "                                  cat_flds = (factor_vars + ordered_factors), bs=128, test_df=test) "
   ]
  },
  {
   "cell_type": "code",
   "execution_count": 20,
   "metadata": {},
   "outputs": [
    {
     "data": {
      "text/plain": [
       "[('region', 55), ('year', 5), ('month', 13), ('week', 54), ('day', 32)]"
      ]
     },
     "execution_count": 20,
     "metadata": {},
     "output_type": "execute_result"
    }
   ],
   "source": [
    "cat_sz = [(c, len(df_avocado[c].cat.categories) + 1) for c in cat_vars]\n",
    "cat_sz"
   ]
  },
  {
   "cell_type": "code",
   "execution_count": 22,
   "metadata": {},
   "outputs": [
    {
     "data": {
      "text/plain": [
       "[(55, 28), (5, 3), (13, 7), (54, 27), (32, 16)]"
      ]
     },
     "execution_count": 22,
     "metadata": {},
     "output_type": "execute_result"
    }
   ],
   "source": [
    "emb_szs = [(c, min(50, (c+1)//2)) for _,c in cat_sz]\n",
    "emb_szs"
   ]
  },
  {
   "cell_type": "code",
   "execution_count": 40,
   "metadata": {},
   "outputs": [
    {
     "data": {
      "text/plain": [
       "total_volume        float64\n",
       "4046                float64\n",
       "4225                float64\n",
       "4770                float64\n",
       "total_bags          float64\n",
       "small_bags          float64\n",
       "large_bags          float64\n",
       "xlarge_bags         float64\n",
       "type                float64\n",
       "region                 int8\n",
       "avo_type_sum        float64\n",
       "year                   int8\n",
       "month                  int8\n",
       "week                   int8\n",
       "day                    int8\n",
       "dayofweek           float64\n",
       "dayofyear           float64\n",
       "is_month_end        float64\n",
       "is_month_start      float64\n",
       "is_quarter_end      float64\n",
       "is_quarter_start    float64\n",
       "is_year_end         float64\n",
       "is_year_start       float64\n",
       "elapsed             float64\n",
       "dtype: object"
      ]
     },
     "execution_count": 40,
     "metadata": {},
     "output_type": "execute_result"
    }
   ],
   "source": [
    "train.dtypes"
   ]
  },
  {
   "cell_type": "code",
   "execution_count": 109,
   "metadata": {},
   "outputs": [],
   "source": [
    "max_log_y = np.max(yl)\n",
    "y_range = (0, max_log_y*1.2)\n",
    "m = model_data.get_learner(emb_szs, len(train.columns)-len(cat_vars),\n",
    "                   0.04, 1, [20, 5], [0.05, .05], y_range=y_range)"
   ]
  },
  {
   "cell_type": "code",
   "execution_count": 104,
   "metadata": {
    "scrolled": true
   },
   "outputs": [
    {
     "data": {
      "text/plain": [
       "MixedInputModel(\n",
       "  (embs): ModuleList(\n",
       "    (0): Embedding(55, 28)\n",
       "    (1): Embedding(5, 3)\n",
       "    (2): Embedding(13, 7)\n",
       "    (3): Embedding(54, 27)\n",
       "    (4): Embedding(32, 16)\n",
       "  )\n",
       "  (lins): ModuleList(\n",
       "    (0): Linear(in_features=100, out_features=20, bias=True)\n",
       "    (1): Linear(in_features=20, out_features=10, bias=True)\n",
       "    (2): Linear(in_features=10, out_features=5, bias=True)\n",
       "  )\n",
       "  (bns): ModuleList(\n",
       "    (0): BatchNorm1d(20, eps=1e-05, momentum=0.1, affine=True)\n",
       "    (1): BatchNorm1d(10, eps=1e-05, momentum=0.1, affine=True)\n",
       "    (2): BatchNorm1d(5, eps=1e-05, momentum=0.1, affine=True)\n",
       "  )\n",
       "  (outp): Linear(in_features=5, out_features=1, bias=True)\n",
       "  (emb_drop): Dropout(p=0.04)\n",
       "  (drops): ModuleList(\n",
       "    (0): Dropout(p=0.05)\n",
       "    (1): Dropout(p=0.05)\n",
       "    (2): Dropout(p=0.05)\n",
       "  )\n",
       "  (bn): BatchNorm1d(19, eps=1e-05, momentum=0.1, affine=True)\n",
       ")"
      ]
     },
     "execution_count": 104,
     "metadata": {},
     "output_type": "execute_result"
    }
   ],
   "source": [
    "m"
   ]
  },
  {
   "cell_type": "code",
   "execution_count": 105,
   "metadata": {
    "scrolled": true
   },
   "outputs": [
    {
     "data": {
      "application/vnd.jupyter.widget-view+json": {
       "model_id": "ed6b261c89a44698a6665173a6ab4b0c",
       "version_major": 2,
       "version_minor": 0
      },
      "text/plain": [
       "HBox(children=(IntProgress(value=0, description='Epoch', max=1), HTML(value='')))"
      ]
     },
     "metadata": {},
     "output_type": "display_data"
    },
    {
     "name": "stdout",
     "output_type": "stream",
     "text": [
      "epoch      trn_loss   val_loss                                \n",
      "    0      0.103759   0.126452  \n",
      "\n"
     ]
    }
   ],
   "source": [
    "m.lr_find()"
   ]
  },
  {
   "cell_type": "code",
   "execution_count": 107,
   "metadata": {
    "scrolled": true
   },
   "outputs": [
    {
     "data": {
      "image/png": "[encoded data removed]",
      "text/plain": [
       "<Figure size 432x288 with 1 Axes>"
      ]
     },
     "metadata": {},
     "output_type": "display_data"
    }
   ],
   "source": [
    "m.sched.plot(10)"
   ]
  },
  {
   "cell_type": "code",
   "execution_count": 111,
   "metadata": {
    "scrolled": false
   },
   "outputs": [
    {
     "data": {
      "application/vnd.jupyter.widget-view+json": {
       "model_id": "e1065c5391db4aaf8704c2f4ab2443e2",
       "version_major": 2,
       "version_minor": 0
      },
      "text/plain": [
       "HBox(children=(IntProgress(value=0, description='Epoch', max=9), HTML(value='')))"
      ]
     },
     "metadata": {},
     "output_type": "display_data"
    },
    {
     "name": "stdout",
     "output_type": "stream",
     "text": [
      "epoch      trn_loss   val_loss                                \n",
      "    0      0.036678   0.058198  \n",
      "    1      0.03169    0.063899                                \n",
      "    2      0.029358   0.058566                                 \n",
      "    3      0.033301   0.064738                                \n",
      "    4      0.032274   0.066096                                \n",
      "    5      0.029361   0.062446                                \n",
      "    6      0.027429   0.063022                                 \n",
      "    7      0.027093   0.063206                                 \n",
      "    8      0.025727   0.061681                                 \n",
      "\n"
     ]
    },
    {
     "data": {
      "text/plain": [
       "[array([0.06168])]"
      ]
     },
     "execution_count": 111,
     "metadata": {},
     "output_type": "execute_result"
    }
   ],
   "source": [
    "lr = 1e-1\n",
    "m.fit(lr, 2, cycle_len = 3, cycle_mult = 2)"
   ]
  },
  {
   "cell_type": "code",
   "execution_count": 118,
   "metadata": {},
   "outputs": [],
   "source": [
    "m.save('avo_model')"
   ]
  },
  {
   "cell_type": "code",
   "execution_count": null,
   "metadata": {},
   "outputs": [],
   "source": [
    "#Look at pred accuracy"
   ]
  },
  {
   "cell_type": "code",
   "execution_count": 167,
   "metadata": {},
   "outputs": [],
   "source": [
    "#Get predictions\n",
    "pred_test = m.predict(True)"
   ]
  },
  {
   "cell_type": "code",
   "execution_count": 168,
   "metadata": {},
   "outputs": [],
   "source": [
    "#Calculate error stats\n",
    "test_eval = test.copy()\n",
    "test_eval['actual'] = y_test\n",
    "test_eval['pred'] = np.exp(pred_test)\n",
    "test_eval['rmse'] = np.sqrt(np.power((test_eval['pred'] - test_eval['actual']) / test_eval['actual'], 2))\n",
    "test_eval['smape'] = (abs(test_eval['actual'] - test_eval['pred'])) / ((abs(test_eval['actual']) + abs(test_eval['pred']))/2)"
   ]
  },
  {
   "cell_type": "code",
   "execution_count": 169,
   "metadata": {
    "scrolled": true
   },
   "outputs": [
    {
     "data": {
      "text/html": [
       "<div>\n",
       "<style scoped>\n",
       "    .dataframe tbody tr th:only-of-type {\n",
       "        vertical-align: middle;\n",
       "    }\n",
       "\n",
       "    .dataframe tbody tr th {\n",
       "        vertical-align: top;\n",
       "    }\n",
       "\n",
       "    .dataframe thead th {\n",
       "        text-align: right;\n",
       "    }\n",
       "</style>\n",
       "<table border=\"1\" class=\"dataframe\">\n",
       "  <thead>\n",
       "    <tr style=\"text-align: right;\">\n",
       "      <th></th>\n",
       "      <th>actual</th>\n",
       "      <th>pred</th>\n",
       "      <th>rmse</th>\n",
       "      <th>smape</th>\n",
       "    </tr>\n",
       "  </thead>\n",
       "  <tbody>\n",
       "    <tr>\n",
       "      <th>16425</th>\n",
       "      <td>2.06</td>\n",
       "      <td>1.524639</td>\n",
       "      <td>0.259884</td>\n",
       "      <td>0.298698</td>\n",
       "    </tr>\n",
       "    <tr>\n",
       "      <th>16426</th>\n",
       "      <td>2.20</td>\n",
       "      <td>1.724463</td>\n",
       "      <td>0.216153</td>\n",
       "      <td>0.242345</td>\n",
       "    </tr>\n",
       "    <tr>\n",
       "      <th>16427</th>\n",
       "      <td>2.28</td>\n",
       "      <td>1.724463</td>\n",
       "      <td>0.243657</td>\n",
       "      <td>0.277459</td>\n",
       "    </tr>\n",
       "    <tr>\n",
       "      <th>16428</th>\n",
       "      <td>2.08</td>\n",
       "      <td>1.724463</td>\n",
       "      <td>0.170931</td>\n",
       "      <td>0.186905</td>\n",
       "    </tr>\n",
       "    <tr>\n",
       "      <th>16429</th>\n",
       "      <td>1.81</td>\n",
       "      <td>1.523266</td>\n",
       "      <td>0.158417</td>\n",
       "      <td>0.172044</td>\n",
       "    </tr>\n",
       "    <tr>\n",
       "      <th>16430</th>\n",
       "      <td>1.49</td>\n",
       "      <td>1.391683</td>\n",
       "      <td>0.065984</td>\n",
       "      <td>0.068236</td>\n",
       "    </tr>\n",
       "    <tr>\n",
       "      <th>16431</th>\n",
       "      <td>1.95</td>\n",
       "      <td>1.724463</td>\n",
       "      <td>0.115660</td>\n",
       "      <td>0.122759</td>\n",
       "    </tr>\n",
       "    <tr>\n",
       "      <th>16432</th>\n",
       "      <td>1.47</td>\n",
       "      <td>1.724463</td>\n",
       "      <td>0.173104</td>\n",
       "      <td>0.159315</td>\n",
       "    </tr>\n",
       "    <tr>\n",
       "      <th>16433</th>\n",
       "      <td>1.26</td>\n",
       "      <td>1.557282</td>\n",
       "      <td>0.235938</td>\n",
       "      <td>0.211042</td>\n",
       "    </tr>\n",
       "    <tr>\n",
       "      <th>16434</th>\n",
       "      <td>1.26</td>\n",
       "      <td>1.710507</td>\n",
       "      <td>0.357545</td>\n",
       "      <td>0.303320</td>\n",
       "    </tr>\n",
       "    <tr>\n",
       "      <th>16435</th>\n",
       "      <td>1.26</td>\n",
       "      <td>1.721910</td>\n",
       "      <td>0.366595</td>\n",
       "      <td>0.309808</td>\n",
       "    </tr>\n",
       "    <tr>\n",
       "      <th>16436</th>\n",
       "      <td>1.28</td>\n",
       "      <td>1.000000</td>\n",
       "      <td>0.218750</td>\n",
       "      <td>0.245614</td>\n",
       "    </tr>\n",
       "    <tr>\n",
       "      <th>16437</th>\n",
       "      <td>1.60</td>\n",
       "      <td>1.724463</td>\n",
       "      <td>0.077789</td>\n",
       "      <td>0.074877</td>\n",
       "    </tr>\n",
       "    <tr>\n",
       "      <th>16438</th>\n",
       "      <td>1.60</td>\n",
       "      <td>1.724463</td>\n",
       "      <td>0.077789</td>\n",
       "      <td>0.074877</td>\n",
       "    </tr>\n",
       "    <tr>\n",
       "      <th>16439</th>\n",
       "      <td>1.59</td>\n",
       "      <td>1.724463</td>\n",
       "      <td>0.084568</td>\n",
       "      <td>0.081137</td>\n",
       "    </tr>\n",
       "    <tr>\n",
       "      <th>16440</th>\n",
       "      <td>1.50</td>\n",
       "      <td>1.427411</td>\n",
       "      <td>0.048393</td>\n",
       "      <td>0.049593</td>\n",
       "    </tr>\n",
       "    <tr>\n",
       "      <th>16441</th>\n",
       "      <td>1.63</td>\n",
       "      <td>1.724463</td>\n",
       "      <td>0.057953</td>\n",
       "      <td>0.056321</td>\n",
       "    </tr>\n",
       "    <tr>\n",
       "      <th>16442</th>\n",
       "      <td>1.72</td>\n",
       "      <td>1.724463</td>\n",
       "      <td>0.002595</td>\n",
       "      <td>0.002591</td>\n",
       "    </tr>\n",
       "    <tr>\n",
       "      <th>16443</th>\n",
       "      <td>1.75</td>\n",
       "      <td>1.619044</td>\n",
       "      <td>0.074832</td>\n",
       "      <td>0.077741</td>\n",
       "    </tr>\n",
       "    <tr>\n",
       "      <th>16444</th>\n",
       "      <td>1.70</td>\n",
       "      <td>1.661145</td>\n",
       "      <td>0.022856</td>\n",
       "      <td>0.023120</td>\n",
       "    </tr>\n",
       "    <tr>\n",
       "      <th>16445</th>\n",
       "      <td>1.70</td>\n",
       "      <td>1.724463</td>\n",
       "      <td>0.014390</td>\n",
       "      <td>0.014287</td>\n",
       "    </tr>\n",
       "    <tr>\n",
       "      <th>16446</th>\n",
       "      <td>1.73</td>\n",
       "      <td>1.724463</td>\n",
       "      <td>0.003201</td>\n",
       "      <td>0.003206</td>\n",
       "    </tr>\n",
       "    <tr>\n",
       "      <th>16447</th>\n",
       "      <td>1.65</td>\n",
       "      <td>1.724463</td>\n",
       "      <td>0.045129</td>\n",
       "      <td>0.044133</td>\n",
       "    </tr>\n",
       "    <tr>\n",
       "      <th>16448</th>\n",
       "      <td>1.69</td>\n",
       "      <td>1.724463</td>\n",
       "      <td>0.020392</td>\n",
       "      <td>0.020186</td>\n",
       "    </tr>\n",
       "    <tr>\n",
       "      <th>16449</th>\n",
       "      <td>1.58</td>\n",
       "      <td>1.724463</td>\n",
       "      <td>0.091432</td>\n",
       "      <td>0.087435</td>\n",
       "    </tr>\n",
       "    <tr>\n",
       "      <th>16450</th>\n",
       "      <td>1.61</td>\n",
       "      <td>1.724463</td>\n",
       "      <td>0.071095</td>\n",
       "      <td>0.068655</td>\n",
       "    </tr>\n",
       "    <tr>\n",
       "      <th>16451</th>\n",
       "      <td>1.57</td>\n",
       "      <td>1.724463</td>\n",
       "      <td>0.098384</td>\n",
       "      <td>0.093771</td>\n",
       "    </tr>\n",
       "    <tr>\n",
       "      <th>16452</th>\n",
       "      <td>1.62</td>\n",
       "      <td>1.724463</td>\n",
       "      <td>0.064483</td>\n",
       "      <td>0.062469</td>\n",
       "    </tr>\n",
       "    <tr>\n",
       "      <th>16453</th>\n",
       "      <td>1.67</td>\n",
       "      <td>1.724463</td>\n",
       "      <td>0.032613</td>\n",
       "      <td>0.032089</td>\n",
       "    </tr>\n",
       "    <tr>\n",
       "      <th>16454</th>\n",
       "      <td>1.85</td>\n",
       "      <td>1.724463</td>\n",
       "      <td>0.067858</td>\n",
       "      <td>0.070241</td>\n",
       "    </tr>\n",
       "    <tr>\n",
       "      <th>...</th>\n",
       "      <td>...</td>\n",
       "      <td>...</td>\n",
       "      <td>...</td>\n",
       "      <td>...</td>\n",
       "    </tr>\n",
       "    <tr>\n",
       "      <th>18219</th>\n",
       "      <td>1.56</td>\n",
       "      <td>1.238257</td>\n",
       "      <td>0.206246</td>\n",
       "      <td>0.229960</td>\n",
       "    </tr>\n",
       "    <tr>\n",
       "      <th>18220</th>\n",
       "      <td>1.53</td>\n",
       "      <td>1.156061</td>\n",
       "      <td>0.244405</td>\n",
       "      <td>0.278429</td>\n",
       "    </tr>\n",
       "    <tr>\n",
       "      <th>18221</th>\n",
       "      <td>1.61</td>\n",
       "      <td>1.371859</td>\n",
       "      <td>0.147914</td>\n",
       "      <td>0.159727</td>\n",
       "    </tr>\n",
       "    <tr>\n",
       "      <th>18222</th>\n",
       "      <td>1.63</td>\n",
       "      <td>1.384107</td>\n",
       "      <td>0.150855</td>\n",
       "      <td>0.163162</td>\n",
       "    </tr>\n",
       "    <tr>\n",
       "      <th>18223</th>\n",
       "      <td>1.59</td>\n",
       "      <td>1.448959</td>\n",
       "      <td>0.088705</td>\n",
       "      <td>0.092822</td>\n",
       "    </tr>\n",
       "    <tr>\n",
       "      <th>18224</th>\n",
       "      <td>1.51</td>\n",
       "      <td>1.414844</td>\n",
       "      <td>0.063017</td>\n",
       "      <td>0.065067</td>\n",
       "    </tr>\n",
       "    <tr>\n",
       "      <th>18225</th>\n",
       "      <td>1.60</td>\n",
       "      <td>1.400362</td>\n",
       "      <td>0.124773</td>\n",
       "      <td>0.133076</td>\n",
       "    </tr>\n",
       "    <tr>\n",
       "      <th>18226</th>\n",
       "      <td>1.73</td>\n",
       "      <td>1.364157</td>\n",
       "      <td>0.211470</td>\n",
       "      <td>0.236474</td>\n",
       "    </tr>\n",
       "    <tr>\n",
       "      <th>18227</th>\n",
       "      <td>1.63</td>\n",
       "      <td>1.345927</td>\n",
       "      <td>0.174278</td>\n",
       "      <td>0.190914</td>\n",
       "    </tr>\n",
       "    <tr>\n",
       "      <th>18228</th>\n",
       "      <td>1.46</td>\n",
       "      <td>1.429328</td>\n",
       "      <td>0.021008</td>\n",
       "      <td>0.021231</td>\n",
       "    </tr>\n",
       "    <tr>\n",
       "      <th>18229</th>\n",
       "      <td>1.49</td>\n",
       "      <td>1.387380</td>\n",
       "      <td>0.068872</td>\n",
       "      <td>0.071328</td>\n",
       "    </tr>\n",
       "    <tr>\n",
       "      <th>18230</th>\n",
       "      <td>1.64</td>\n",
       "      <td>1.405486</td>\n",
       "      <td>0.142997</td>\n",
       "      <td>0.154008</td>\n",
       "    </tr>\n",
       "    <tr>\n",
       "      <th>18231</th>\n",
       "      <td>1.47</td>\n",
       "      <td>1.336291</td>\n",
       "      <td>0.090959</td>\n",
       "      <td>0.095293</td>\n",
       "    </tr>\n",
       "    <tr>\n",
       "      <th>18232</th>\n",
       "      <td>1.41</td>\n",
       "      <td>1.388379</td>\n",
       "      <td>0.015334</td>\n",
       "      <td>0.015452</td>\n",
       "    </tr>\n",
       "    <tr>\n",
       "      <th>18233</th>\n",
       "      <td>1.80</td>\n",
       "      <td>1.400994</td>\n",
       "      <td>0.221670</td>\n",
       "      <td>0.249302</td>\n",
       "    </tr>\n",
       "    <tr>\n",
       "      <th>18234</th>\n",
       "      <td>1.83</td>\n",
       "      <td>1.414039</td>\n",
       "      <td>0.227301</td>\n",
       "      <td>0.256446</td>\n",
       "    </tr>\n",
       "    <tr>\n",
       "      <th>18235</th>\n",
       "      <td>1.82</td>\n",
       "      <td>1.488131</td>\n",
       "      <td>0.182346</td>\n",
       "      <td>0.200639</td>\n",
       "    </tr>\n",
       "    <tr>\n",
       "      <th>18236</th>\n",
       "      <td>1.48</td>\n",
       "      <td>1.447337</td>\n",
       "      <td>0.022070</td>\n",
       "      <td>0.022316</td>\n",
       "    </tr>\n",
       "    <tr>\n",
       "      <th>18237</th>\n",
       "      <td>1.62</td>\n",
       "      <td>1.149061</td>\n",
       "      <td>0.290703</td>\n",
       "      <td>0.340144</td>\n",
       "    </tr>\n",
       "    <tr>\n",
       "      <th>18238</th>\n",
       "      <td>1.56</td>\n",
       "      <td>1.087543</td>\n",
       "      <td>0.302857</td>\n",
       "      <td>0.356902</td>\n",
       "    </tr>\n",
       "    <tr>\n",
       "      <th>18239</th>\n",
       "      <td>1.56</td>\n",
       "      <td>1.130020</td>\n",
       "      <td>0.275628</td>\n",
       "      <td>0.319685</td>\n",
       "    </tr>\n",
       "    <tr>\n",
       "      <th>18240</th>\n",
       "      <td>1.54</td>\n",
       "      <td>1.377001</td>\n",
       "      <td>0.105844</td>\n",
       "      <td>0.111758</td>\n",
       "    </tr>\n",
       "    <tr>\n",
       "      <th>18241</th>\n",
       "      <td>1.57</td>\n",
       "      <td>1.031818</td>\n",
       "      <td>0.342791</td>\n",
       "      <td>0.413697</td>\n",
       "    </tr>\n",
       "    <tr>\n",
       "      <th>18242</th>\n",
       "      <td>1.56</td>\n",
       "      <td>1.060575</td>\n",
       "      <td>0.320144</td>\n",
       "      <td>0.381157</td>\n",
       "    </tr>\n",
       "    <tr>\n",
       "      <th>18243</th>\n",
       "      <td>1.57</td>\n",
       "      <td>1.002369</td>\n",
       "      <td>0.361548</td>\n",
       "      <td>0.441329</td>\n",
       "    </tr>\n",
       "    <tr>\n",
       "      <th>18244</th>\n",
       "      <td>1.63</td>\n",
       "      <td>1.002810</td>\n",
       "      <td>0.384779</td>\n",
       "      <td>0.476441</td>\n",
       "    </tr>\n",
       "    <tr>\n",
       "      <th>18245</th>\n",
       "      <td>1.71</td>\n",
       "      <td>1.306660</td>\n",
       "      <td>0.235871</td>\n",
       "      <td>0.267408</td>\n",
       "    </tr>\n",
       "    <tr>\n",
       "      <th>18246</th>\n",
       "      <td>1.87</td>\n",
       "      <td>1.460451</td>\n",
       "      <td>0.219010</td>\n",
       "      <td>0.245942</td>\n",
       "    </tr>\n",
       "    <tr>\n",
       "      <th>18247</th>\n",
       "      <td>1.93</td>\n",
       "      <td>1.662302</td>\n",
       "      <td>0.138704</td>\n",
       "      <td>0.149040</td>\n",
       "    </tr>\n",
       "    <tr>\n",
       "      <th>18248</th>\n",
       "      <td>1.62</td>\n",
       "      <td>1.626171</td>\n",
       "      <td>0.003809</td>\n",
       "      <td>0.003802</td>\n",
       "    </tr>\n",
       "  </tbody>\n",
       "</table>\n",
       "<p>1824 rows × 4 columns</p>\n",
       "</div>"
      ],
      "text/plain": [
       "       actual      pred      rmse     smape\n",
       "16425    2.06  1.524639  0.259884  0.298698\n",
       "16426    2.20  1.724463  0.216153  0.242345\n",
       "16427    2.28  1.724463  0.243657  0.277459\n",
       "16428    2.08  1.724463  0.170931  0.186905\n",
       "16429    1.81  1.523266  0.158417  0.172044\n",
       "16430    1.49  1.391683  0.065984  0.068236\n",
       "16431    1.95  1.724463  0.115660  0.122759\n",
       "16432    1.47  1.724463  0.173104  0.159315\n",
       "16433    1.26  1.557282  0.235938  0.211042\n",
       "16434    1.26  1.710507  0.357545  0.303320\n",
       "16435    1.26  1.721910  0.366595  0.309808\n",
       "16436    1.28  1.000000  0.218750  0.245614\n",
       "16437    1.60  1.724463  0.077789  0.074877\n",
       "16438    1.60  1.724463  0.077789  0.074877\n",
       "16439    1.59  1.724463  0.084568  0.081137\n",
       "16440    1.50  1.427411  0.048393  0.049593\n",
       "16441    1.63  1.724463  0.057953  0.056321\n",
       "16442    1.72  1.724463  0.002595  0.002591\n",
       "16443    1.75  1.619044  0.074832  0.077741\n",
       "16444    1.70  1.661145  0.022856  0.023120\n",
       "16445    1.70  1.724463  0.014390  0.014287\n",
       "16446    1.73  1.724463  0.003201  0.003206\n",
       "16447    1.65  1.724463  0.045129  0.044133\n",
       "16448    1.69  1.724463  0.020392  0.020186\n",
       "16449    1.58  1.724463  0.091432  0.087435\n",
       "16450    1.61  1.724463  0.071095  0.068655\n",
       "16451    1.57  1.724463  0.098384  0.093771\n",
       "16452    1.62  1.724463  0.064483  0.062469\n",
       "16453    1.67  1.724463  0.032613  0.032089\n",
       "16454    1.85  1.724463  0.067858  0.070241\n",
       "...       ...       ...       ...       ...\n",
       "18219    1.56  1.238257  0.206246  0.229960\n",
       "18220    1.53  1.156061  0.244405  0.278429\n",
       "18221    1.61  1.371859  0.147914  0.159727\n",
       "18222    1.63  1.384107  0.150855  0.163162\n",
       "18223    1.59  1.448959  0.088705  0.092822\n",
       "18224    1.51  1.414844  0.063017  0.065067\n",
       "18225    1.60  1.400362  0.124773  0.133076\n",
       "18226    1.73  1.364157  0.211470  0.236474\n",
       "18227    1.63  1.345927  0.174278  0.190914\n",
       "18228    1.46  1.429328  0.021008  0.021231\n",
       "18229    1.49  1.387380  0.068872  0.071328\n",
       "18230    1.64  1.405486  0.142997  0.154008\n",
       "18231    1.47  1.336291  0.090959  0.095293\n",
       "18232    1.41  1.388379  0.015334  0.015452\n",
       "18233    1.80  1.400994  0.221670  0.249302\n",
       "18234    1.83  1.414039  0.227301  0.256446\n",
       "18235    1.82  1.488131  0.182346  0.200639\n",
       "18236    1.48  1.447337  0.022070  0.022316\n",
       "18237    1.62  1.149061  0.290703  0.340144\n",
       "18238    1.56  1.087543  0.302857  0.356902\n",
       "18239    1.56  1.130020  0.275628  0.319685\n",
       "18240    1.54  1.377001  0.105844  0.111758\n",
       "18241    1.57  1.031818  0.342791  0.413697\n",
       "18242    1.56  1.060575  0.320144  0.381157\n",
       "18243    1.57  1.002369  0.361548  0.441329\n",
       "18244    1.63  1.002810  0.384779  0.476441\n",
       "18245    1.71  1.306660  0.235871  0.267408\n",
       "18246    1.87  1.460451  0.219010  0.245942\n",
       "18247    1.93  1.662302  0.138704  0.149040\n",
       "18248    1.62  1.626171  0.003809  0.003802\n",
       "\n",
       "[1824 rows x 4 columns]"
      ]
     },
     "execution_count": 169,
     "metadata": {},
     "output_type": "execute_result"
    }
   ],
   "source": [
    "test_eval[['actual', 'pred', 'rmse', 'smape']]"
   ]
  },
  {
   "cell_type": "code",
   "execution_count": 170,
   "metadata": {},
   "outputs": [
    {
     "data": {
      "text/plain": [
       "0.18296057"
      ]
     },
     "execution_count": 170,
     "metadata": {},
     "output_type": "execute_result"
    }
   ],
   "source": [
    "np.mean(test_eval['smape'])"
   ]
  },
  {
   "cell_type": "code",
   "execution_count": 191,
   "metadata": {
    "scrolled": true
   },
   "outputs": [
    {
     "data": {
      "text/plain": [
       "<matplotlib.axes._subplots.AxesSubplot at 0x7f1c822c0b70>"
      ]
     },
     "execution_count": 191,
     "metadata": {},
     "output_type": "execute_result"
    },
    {
     "data": {
      "image/png": "[encoded data removed]",
      "text/plain": [
       "<Figure size 432x288 with 1 Axes>"
      ]
     },
     "metadata": {},
     "output_type": "display_data"
    }
   ],
   "source": [
    "test_eval['smape'].plot()"
   ]
  },
  {
   "cell_type": "code",
   "execution_count": 194,
   "metadata": {},
   "outputs": [
    {
     "data": {
      "text/plain": [
       "<matplotlib.collections.PathCollection at 0x7f1c822e2dd8>"
      ]
     },
     "execution_count": 194,
     "metadata": {},
     "output_type": "execute_result"
    },
    {
     "data": {
      "image/png": "[encoded data removed]",
      "text/plain": [
       "<Figure size 432x288 with 1 Axes>"
      ]
     },
     "metadata": {},
     "output_type": "display_data"
    }
   ],
   "source": [
    "plt.figure()\n",
    "\n",
    "plt.scatter(test_eval['actual'], test_eval['smape'])"
   ]
  },
  {
   "cell_type": "markdown",
   "metadata": {},
   "source": [
    "Retry with RMSPE as an objective"
   ]
  },
  {
   "cell_type": "code",
   "execution_count": 185,
   "metadata": {},
   "outputs": [],
   "source": [
    "#Retry with RMSE as the objective\n",
    "def inv_y(a): return np.exp(a)\n",
    "\n",
    "def exp_rmspe(y_pred, targ):\n",
    "    targ = inv_y(targ)\n",
    "    pct_var = (targ - inv_y(y_pred))/targ\n",
    "    return math.sqrt((pct_var**2).mean())\n",
    "\n",
    "m2 = model_data.get_learner(emb_szs, len(train.columns)-len(cat_vars),\n",
    "                   0.04, 1, [20, 5], [0.001, 0.001], y_range=y_range)"
   ]
  },
  {
   "cell_type": "code",
   "execution_count": 186,
   "metadata": {
    "scrolled": true
   },
   "outputs": [
    {
     "data": {
      "application/vnd.jupyter.widget-view+json": {
       "model_id": "d623dc55686d47eea1e671db24b3b016",
       "version_major": 2,
       "version_minor": 0
      },
      "text/plain": [
       "HBox(children=(IntProgress(value=0, description='Epoch', max=1), HTML(value='')))"
      ]
     },
     "metadata": {},
     "output_type": "display_data"
    },
    {
     "name": "stdout",
     "output_type": "stream",
     "text": [
      "epoch      trn_loss   val_loss                                \n",
      "    0      0.11496    0.312451  \n",
      "\n"
     ]
    }
   ],
   "source": [
    "m2.lr_find()"
   ]
  },
  {
   "cell_type": "code",
   "execution_count": 174,
   "metadata": {},
   "outputs": [
    {
     "data": {
      "image/png": "[encoded data removed]",
      "text/plain": [
       "<Figure size 432x288 with 1 Axes>"
      ]
     },
     "metadata": {},
     "output_type": "display_data"
    }
   ],
   "source": [
    "m2.sched.plot(0)"
   ]
  },
  {
   "cell_type": "code",
   "execution_count": 187,
   "metadata": {
    "scrolled": true
   },
   "outputs": [
    {
     "data": {
      "application/vnd.jupyter.widget-view+json": {
       "model_id": "688326a384094e179c765eb7a4300b0d",
       "version_major": 2,
       "version_minor": 0
      },
      "text/plain": [
       "HBox(children=(IntProgress(value=0, description='Epoch', max=14), HTML(value='')))"
      ]
     },
     "metadata": {},
     "output_type": "display_data"
    },
    {
     "name": "stdout",
     "output_type": "stream",
     "text": [
      "epoch      trn_loss   val_loss   exp_rmspe                    \n",
      "    0      0.219811   0.094103   0.431958  \n",
      "    1      0.215855   0.094031   0.431726                     \n",
      "    2      0.216835   0.093644   0.430464                     \n",
      "    3      0.215022   0.093344   0.429464                     \n",
      "    4      0.21487    0.0932     0.428984                     \n",
      "    5      0.212422   0.093177   0.428907                     \n",
      "    6      0.210908   0.092716   0.427356                     \n",
      "    7      0.206777   0.092256   0.425777                     \n",
      "    8      0.206845   0.091849   0.424363                     \n",
      "    9      0.205459   0.091525   0.42323                      \n",
      "    10     0.201742   0.0913     0.42244                      \n",
      "    11     0.200996   0.091171   0.421985                     \n",
      "    12     0.199912   0.091122   0.421809                    \n",
      "    13     0.20364    0.091114   0.421784                     \n",
      "\n"
     ]
    },
    {
     "data": {
      "text/plain": [
       "[array([0.09111]), 0.42178385455187883]"
      ]
     },
     "execution_count": 187,
     "metadata": {},
     "output_type": "execute_result"
    }
   ],
   "source": [
    "m2.fit(1e-5, 3, cycle_len = 2, cycle_mult = 2, metrics = [exp_rmspe])"
   ]
  },
  {
   "cell_type": "code",
   "execution_count": 188,
   "metadata": {},
   "outputs": [],
   "source": [
    "pred_test = m2.predict(True)"
   ]
  },
  {
   "cell_type": "code",
   "execution_count": 189,
   "metadata": {},
   "outputs": [],
   "source": [
    "test_eval2 = test.copy()\n",
    "\n",
    "test_eval2 = test.copy()\n",
    "test_eval2['actual'] = y_test\n",
    "test_eval2['pred'] = np.exp(pred_test)\n",
    "test_eval2['rmse'] = np.sqrt(np.power((test_eval2['pred'] - test_eval2['actual']) / test_eval2['actual'], 2))\n",
    "test_eval2['smape'] = (abs(test_eval2['actual'] - test_eval2['pred'])) / ((abs(test_eval2['actual']) + abs(test_eval2['pred']))/2)"
   ]
  },
  {
   "cell_type": "code",
   "execution_count": 190,
   "metadata": {},
   "outputs": [
    {
     "data": {
      "text/plain": [
       "0.20666312"
      ]
     },
     "execution_count": 190,
     "metadata": {},
     "output_type": "execute_result"
    }
   ],
   "source": [
    "np.mean(test_eval2['smape'])"
   ]
  }
 ],
 "metadata": {
  "kernelspec": {
   "display_name": "Python [default]",
   "language": "python",
   "name": "python3"
  },
  "language_info": {
   "codemirror_mode": {
    "name": "ipython",
    "version": 3
   },
   "file_extension": ".py",
   "mimetype": "text/x-python",
   "name": "python",
   "nbconvert_exporter": "python",
   "pygments_lexer": "ipython3",
   "version": "3.6.5"
  }
 },
 "nbformat": 4,
 "nbformat_minor": 2
}
